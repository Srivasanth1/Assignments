{
 "cells": [
  {
   "cell_type": "code",
   "execution_count": 1,
   "id": "7dd46461-3ffc-40bd-bc5e-9b460a60bf45",
   "metadata": {},
   "outputs": [],
   "source": [
    "#Subfields of artificial intelligence\n",
    "def subfields(a):\n",
    "    print(\"Subfields of AI are:\")\n",
    "    for i in range(len(a)):\n",
    "        print(a[i])\n",
    "list1 = [\"Machine Learning\", \"Neural Networks\", \"Vision\", \"Robotics\", \"Speech Processing\",\"Natural Language Processing\"]\n",
    "subfields(list1)"
   ]
  },
  {
   "cell_type": "code",
   "execution_count": 9,
   "id": "6b62b78e-2261-45cc-b6b2-434f7a057006",
   "metadata": {},
   "outputs": [
    {
     "name": "stdin",
     "output_type": "stream",
     "text": [
      "Enter num 1 2\n"
     ]
    },
    {
     "name": "stdout",
     "output_type": "stream",
     "text": [
      "Even\n"
     ]
    }
   ],
   "source": [
    "#Check odd or even using functions\n",
    "def oddoreven(num1):\n",
    "    if(num1%2 == 0):\n",
    "        print(\"Even\")\n",
    "    else:\n",
    "        print(\"Odd\")\n",
    "num1=int(input(\"Enter num 1\"))\n",
    "oddoreven(num1)"
   ]
  },
  {
   "cell_type": "code",
   "execution_count": 13,
   "id": "0958ae8f-176c-4090-ada4-10bd46ced62b",
   "metadata": {},
   "outputs": [
    {
     "name": "stdin",
     "output_type": "stream",
     "text": [
      "Enter the gender Male\n",
      "Enter the age 19\n"
     ]
    },
    {
     "name": "stdout",
     "output_type": "stream",
     "text": [
      "Not Eligible\n"
     ]
    }
   ],
   "source": [
    "#Check marriage eligibility\n",
    "def marriageeligible(gender,age):\n",
    "    if(gender == \"Male\" and age >= 21):\n",
    "        print(\"Eligible\")\n",
    "    elif(gender == \"Female\" and age >= 18):\n",
    "        print(\"Eligible\")\n",
    "    else:\n",
    "        print(\"Not Eligible\")\n",
    "gender=input(\"Enter the gender\")\n",
    "age=int(input(\"Enter the age\"))\n",
    "marriageeligible(gender,age)        "
   ]
  },
  {
   "cell_type": "code",
   "execution_count": 21,
   "id": "4a2992ed-4649-4e99-aef0-605dcd625dd1",
   "metadata": {},
   "outputs": [
    {
     "name": "stdin",
     "output_type": "stream",
     "text": [
      "Enter the total no of Subjects 5\n",
      "Subject1: 90\n",
      "Subject2: 100\n",
      "Subject3: 90\n",
      "Subject4: 80\n",
      "Subject5: 80\n"
     ]
    },
    {
     "name": "stdout",
     "output_type": "stream",
     "text": [
      "88.0\n"
     ]
    }
   ],
   "source": [
    "#Check average\n",
    "def calcavg(list1,totalno):\n",
    "    totalmarks =0\n",
    "    for i in range(len(list1)):\n",
    "        totalmarks = totalmarks + list1[i]\n",
    "    return totalmarks/totalno\n",
    "\n",
    "totalno = int(input(\"Enter the total no of Subjects\"))\n",
    "list1 = []\n",
    "for i in range(totalno):\n",
    "    mark = int(input(f\"Subject{i+1}:\"))\n",
    "    list1.append(mark)\n",
    "print(calcavg(list1,totalno))  \n",
    "    "
   ]
  },
  {
   "cell_type": "code",
   "execution_count": 23,
   "id": "d42db458-46f5-486a-80e4-6682f25e77b0",
   "metadata": {},
   "outputs": [
    {
     "name": "stdin",
     "output_type": "stream",
     "text": [
      "Enter 1 and 2 to calculate area and perimeter respectively 2\n",
      "Enter Height1 2\n",
      "Enter Height2 4\n",
      "Enter breadth 4\n"
     ]
    },
    {
     "name": "stdout",
     "output_type": "stream",
     "text": [
      "10.0\n"
     ]
    }
   ],
   "source": [
    "#Calculate perimeter / Area\n",
    "def perimeter():\n",
    "    h1 = float(input(\"Enter Height1\"))\n",
    "    h2 = float(input(\"Enter Height2\"))\n",
    "    b = float(input(\"Enter breadth\"))\n",
    "    per = h1+h2+b\n",
    "    return per\n",
    "def area():\n",
    "    h1 = float(input(\"Enter Height1\"))\n",
    "    b = float(input(\"Enter breadth\"))\n",
    "    area = (h1*b)/2\n",
    "    return area\n",
    "option = int(input(\"Enter 1 and 2 to calculate area and perimeter respectively\"))\n",
    "if(option == 1):\n",
    "    print(area())\n",
    "elif(option == 2):\n",
    "    print(perimeter())\n",
    "else:\n",
    "    print(\"Enter 1 or 2 only\")\n"
   ]
  },
  {
   "cell_type": "code",
   "execution_count": null,
   "id": "7ca4d01e-27e5-4e63-ace6-6e3f170b7565",
   "metadata": {},
   "outputs": [],
   "source": []
  }
 ],
 "metadata": {
  "kernelspec": {
   "display_name": "Python 3 (ipykernel)",
   "language": "python",
   "name": "python3"
  },
  "language_info": {
   "codemirror_mode": {
    "name": "ipython",
    "version": 3
   },
   "file_extension": ".py",
   "mimetype": "text/x-python",
   "name": "python",
   "nbconvert_exporter": "python",
   "pygments_lexer": "ipython3",
   "version": "3.12.7"
  }
 },
 "nbformat": 4,
 "nbformat_minor": 5
}
