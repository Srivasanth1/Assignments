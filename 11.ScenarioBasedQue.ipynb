{
 "cells": [
  {
   "cell_type": "code",
   "execution_count": 6,
   "id": "8932be78-a48d-407f-965d-e57c8d6c1558",
   "metadata": {},
   "outputs": [
    {
     "name": "stdin",
     "output_type": "stream",
     "text": [
      "Enter age 23\n"
     ]
    },
    {
     "name": "stdout",
     "output_type": "stream",
     "text": [
      "Eligible\n"
     ]
    }
   ],
   "source": [
    "#Scenario based questions\n",
    "\n",
    "#A system checks if a user is eligible to vote based on their age.\n",
    "#Write logic to ask the user for their age and determine if they are eligible \n",
    "\n",
    "age = int(input(\"Enter age\"))\n",
    "if(age>=18):\n",
    "    print(\"Eligible\")\n",
    "else:\n",
    "    print(\"Not eligible\")"
   ]
  },
  {
   "cell_type": "code",
   "execution_count": 7,
   "id": "1fad661e-c7bf-45c5-bae8-d4f84dbdfd30",
   "metadata": {},
   "outputs": [
    {
     "name": "stdout",
     "output_type": "stream",
     "text": [
      "100\n"
     ]
    }
   ],
   "source": [
    "#A program processes a list of numbers and needs to find the largest value.\n",
    "#Write logic to identify and return the largest number from a given list.\n",
    "\n",
    "list1= [21,100,24,56]\n",
    "maxi = 0\n",
    "for i in range(len(list1)):\n",
    "    if(list1[i] > maxi):\n",
    "        maxi = list1[i]\n",
    "print(maxi)\n",
    "    "
   ]
  },
  {
   "cell_type": "code",
   "execution_count": 11,
   "id": "6ca6d18a-8a49-4651-a27e-7b04a7e3fcdb",
   "metadata": {},
   "outputs": [
    {
     "name": "stdin",
     "output_type": "stream",
     "text": [
      "Enter salary 60000\n"
     ]
    },
    {
     "name": "stdout",
     "output_type": "stream",
     "text": [
      "Bonus amount =  6000.0\n"
     ]
    }
   ],
   "source": [
    "#A company provides employees with a 10% bonus if their salary exceeds $50,000.\n",
    "#Write logic to determine the bonus amount based on the given salary\n",
    "\n",
    "salary = int(input(\"Enter salary\"))\n",
    "if(salary > 50000):\n",
    "    bonus = (salary/10)\n",
    "    print(\"Bonus amount = \", bonus)\n",
    "else:\n",
    "    print(\"salary not greater than $50000\")\n"
   ]
  },
  {
   "cell_type": "code",
   "execution_count": 12,
   "id": "baa973d4-41db-4458-8a0a-89d942f1aae9",
   "metadata": {},
   "outputs": [
    {
     "name": "stdin",
     "output_type": "stream",
     "text": [
      "Enter number 34\n"
     ]
    },
    {
     "name": "stdout",
     "output_type": "stream",
     "text": [
      "Even\n"
     ]
    }
   ],
   "source": [
    "#A program evaluates a number to determine if it is even or odd.\n",
    "#Write logic to check whether a given number is even or odd.\n",
    "\n",
    "num = int(input(\"Enter number\"))\n",
    "if(num %2 == 0):\n",
    "    print(\"Even\")\n",
    "else:\n",
    "    print(\"Odd\")"
   ]
  },
  {
   "cell_type": "code",
   "execution_count": 19,
   "id": "76acbf1e-6335-45f8-b921-e279c6f06e35",
   "metadata": {},
   "outputs": [
    {
     "name": "stdin",
     "output_type": "stream",
     "text": [
      "Enter String qwerty\n"
     ]
    },
    {
     "name": "stdout",
     "output_type": "stream",
     "text": [
      "ytrewq\n"
     ]
    }
   ],
   "source": [
    "#: A text-processing tool reverses a given word or sentence for formatting purposes.\n",
    "# Write logic to take a word or sentence as input and produce its reversed version.\n",
    "\n",
    "str1 = input(\"Enter String\")\n",
    "str2 = \"\"\n",
    "for i in range(len(str1)):\n",
    "    str2 = str2 + str1[len(str1)-1 - i]\n",
    "print(str2)"
   ]
  },
  {
   "cell_type": "code",
   "execution_count": 21,
   "id": "22a72658-16cd-49a8-a832-50a54cdd3917",
   "metadata": {},
   "outputs": [
    {
     "name": "stdin",
     "output_type": "stream",
     "text": [
      "Enter mark 34\n"
     ]
    },
    {
     "name": "stdout",
     "output_type": "stream",
     "text": [
      "Not passed\n"
     ]
    }
   ],
   "source": [
    "#A grading system determines whether a student has passed or failed based on their score.\n",
    "#Write logic to check if a student has passed a subject by scoring at least 40 marks.\n",
    "\n",
    "\n",
    "mark = int(input(\"Enter mark\"))\n",
    "if(mark <= 40 ):\n",
    "    print(\"Not passed\")\n",
    "else:\n",
    "    print(\"Passed\")"
   ]
  },
  {
   "cell_type": "code",
   "execution_count": 23,
   "id": "d2bf6135-7ebd-4634-b408-7ba192812b3c",
   "metadata": {},
   "outputs": [
    {
     "name": "stdin",
     "output_type": "stream",
     "text": [
      "Enter the bill value 300\n"
     ]
    },
    {
     "name": "stdout",
     "output_type": "stream",
     "text": [
      "Discount applied total amount to be paid is  285.0\n"
     ]
    }
   ],
   "source": [
    "#: A retail store offers a 20% discount if a customer’s \n",
    "# total order exceeds $100. Write logic to calculate the final amount to be paid after applying the discount.\n",
    "\n",
    "billamount = int(input(\"Enter the bill value\"))\n",
    "if(billamount > 100):\n",
    "    print(\"Discount applied total amount to be paid is \", billamount - (billamount/20))\n",
    "else:\n",
    "    print(\"Discount not applied total amount to be paid is\", billamount)"
   ]
  },
  {
   "cell_type": "code",
   "execution_count": 2,
   "id": "45a3b249-0f2c-4e48-a130-ba4781126e02",
   "metadata": {},
   "outputs": [
    {
     "name": "stdin",
     "output_type": "stream",
     "text": [
      "Enter the amount to be deposited 200\n"
     ]
    },
    {
     "name": "stdout",
     "output_type": "stream",
     "text": [
      "Amount withdrawn. Total Balance =  800\n"
     ]
    }
   ],
   "source": [
    "#A banking system processes withdrawal requests and ensures the user has enough balance.\n",
    "\n",
    "totalamount = 1000;\n",
    "depositamt = int(input(\"Enter the amount to be deposited\"))\n",
    "withdraw = totalamount - depositamt\n",
    "if(withdraw <= 0):\n",
    "    print(\"insufficient balance\")\n",
    "else:\n",
    "    print(\"Amount withdrawn. Total Balance = \", withdraw)\n"
   ]
  },
  {
   "cell_type": "code",
   "execution_count": 3,
   "id": "6aa1568a-4652-4f87-9f59-72e652859098",
   "metadata": {},
   "outputs": [
    {
     "name": "stdin",
     "output_type": "stream",
     "text": [
      "Enter the year : 2024\n"
     ]
    },
    {
     "name": "stdout",
     "output_type": "stream",
     "text": [
      "Leap year\n"
     ]
    }
   ],
   "source": [
    "#A calendar system verifies whether a given year is a leap year based on standard leap year rules.\n",
    "\n",
    "inputyear = int(input(\"Enter the year :\"))\n",
    "if(inputyear % 4 == 0):\n",
    "        print(\"Leap year\")\n",
    "else:\n",
    "    print(\"Not a leap year\")"
   ]
  },
  {
   "cell_type": "code",
   "execution_count": 10,
   "id": "2ea48e97-b00b-46f7-874c-f3af92e99bdf",
   "metadata": {},
   "outputs": [
    {
     "name": "stdout",
     "output_type": "stream",
     "text": [
      "[2, 4, 6, 8, 0]\n"
     ]
    }
   ],
   "source": [
    "#A program filters out only even numbers from a given list.\n",
    "\n",
    "def remodd(a):\n",
    "    b=[]\n",
    "    for i in range(len(a)):\n",
    "        if(a[i] % 2 == 0 ):\n",
    "            b.append(a[i])\n",
    "    return b\n",
    "\n",
    "a=[1,2,3,4,5,6,7,8,9,0]\n",
    "print(remodd(a))"
   ]
  },
  {
   "cell_type": "code",
   "execution_count": null,
   "id": "74584c0a-9eb8-4f60-af73-8b2c32969255",
   "metadata": {},
   "outputs": [],
   "source": []
  }
 ],
 "metadata": {
  "kernelspec": {
   "display_name": "Python 3 (ipykernel)",
   "language": "python",
   "name": "python3"
  },
  "language_info": {
   "codemirror_mode": {
    "name": "ipython",
    "version": 3
   },
   "file_extension": ".py",
   "mimetype": "text/x-python",
   "name": "python",
   "nbconvert_exporter": "python",
   "pygments_lexer": "ipython3",
   "version": "3.12.7"
  }
 },
 "nbformat": 4,
 "nbformat_minor": 5
}
