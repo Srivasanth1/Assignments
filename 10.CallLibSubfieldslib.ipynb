{
 "cells": [
  {
   "cell_type": "code",
   "execution_count": 3,
   "id": "12f9de96-3033-4d39-9f70-680c8b6e3b22",
   "metadata": {},
   "outputs": [],
   "source": [
    "from Subfieldslib import SubfieldsInAI"
   ]
  },
  {
   "cell_type": "code",
   "execution_count": 9,
   "id": "1345147e-a253-4f03-8036-120827860874",
   "metadata": {},
   "outputs": [
    {
     "name": "stdout",
     "output_type": "stream",
     "text": [
      "Subfields of AI are:\n",
      "Machine Learning\n",
      "Neural Networks\n",
      "Vision\n",
      "Robotics\n",
      "Speech Processing\n",
      "Natural Language Processing\n"
     ]
    }
   ],
   "source": [
    "SubfieldsInAI.subfields()"
   ]
  },
  {
   "cell_type": "code",
   "execution_count": 5,
   "id": "a891f49d-1073-4c49-aeea-e25c4df2c1dc",
   "metadata": {},
   "outputs": [
    {
     "name": "stdin",
     "output_type": "stream",
     "text": [
      "Enter num 1 23\n"
     ]
    },
    {
     "name": "stdout",
     "output_type": "stream",
     "text": [
      "Odd\n"
     ]
    }
   ],
   "source": [
    "SubfieldsInAI.oddoreven()"
   ]
  },
  {
   "cell_type": "code",
   "execution_count": 6,
   "id": "5cc0152e-268d-40b2-ac6d-31866e71b31e",
   "metadata": {},
   "outputs": [
    {
     "name": "stdin",
     "output_type": "stream",
     "text": [
      "Enter the gender Male\n",
      "Enter the age 45\n"
     ]
    },
    {
     "name": "stdout",
     "output_type": "stream",
     "text": [
      "Eligible\n"
     ]
    }
   ],
   "source": [
    "SubfieldsInAI.marriageeligible()"
   ]
  },
  {
   "cell_type": "code",
   "execution_count": 7,
   "id": "7d4e65f8-0673-4f95-bdb9-e5ef8c5129e4",
   "metadata": {},
   "outputs": [
    {
     "name": "stdin",
     "output_type": "stream",
     "text": [
      "Enter the total no of Subjects :  2\n",
      "Subject1: 90\n",
      "Subject2: 90\n"
     ]
    },
    {
     "name": "stdout",
     "output_type": "stream",
     "text": [
      "90.0\n"
     ]
    }
   ],
   "source": [
    "SubfieldsInAI.calcavg()"
   ]
  },
  {
   "cell_type": "code",
   "execution_count": 8,
   "id": "b4e43d9b-2d78-4bf5-b776-cbd4edf8c86d",
   "metadata": {},
   "outputs": [
    {
     "name": "stdin",
     "output_type": "stream",
     "text": [
      "Enter 1 and 2 to calculate area and perimeter respectively 2\n",
      "Enter Height1 32\n",
      "Enter Height2 12\n",
      "Enter breadth 12\n"
     ]
    },
    {
     "name": "stdout",
     "output_type": "stream",
     "text": [
      "56.0\n"
     ]
    }
   ],
   "source": [
    "SubfieldsInAI.calareaper()"
   ]
  },
  {
   "cell_type": "code",
   "execution_count": null,
   "id": "7fb66134-ff98-4c21-85e8-e9245cadc3e2",
   "metadata": {},
   "outputs": [],
   "source": []
  }
 ],
 "metadata": {
  "kernelspec": {
   "display_name": "Python 3 (ipykernel)",
   "language": "python",
   "name": "python3"
  },
  "language_info": {
   "codemirror_mode": {
    "name": "ipython",
    "version": 3
   },
   "file_extension": ".py",
   "mimetype": "text/x-python",
   "name": "python",
   "nbconvert_exporter": "python",
   "pygments_lexer": "ipython3",
   "version": "3.12.7"
  }
 },
 "nbformat": 4,
 "nbformat_minor": 5
}
