{
 "cells": [
  {
   "cell_type": "code",
   "execution_count": 2,
   "id": "e7782524-0340-47a8-b061-d4132935bebf",
   "metadata": {},
   "outputs": [
    {
     "name": "stdout",
     "output_type": "stream",
     "text": [
      "4.0\n"
     ]
    }
   ],
   "source": [
    "#1.Find the error in the following Python code:\n",
    "import math\n",
    "print(math.sqrt(16))"
   ]
  },
  {
   "cell_type": "code",
   "execution_count": 3,
   "id": "11865271-a8dd-4cd8-a4c8-a84e700acba0",
   "metadata": {},
   "outputs": [
    {
     "name": "stdout",
     "output_type": "stream",
     "text": [
      "15\n"
     ]
    }
   ],
   "source": [
    "#2.Find the error in the following Python code:\n",
    "def my_function(x):\n",
    "    x += 5\n",
    "    print(x)\n",
    "\n",
    "x = 10\n",
    "my_function(x)\n"
   ]
  },
  {
   "cell_type": "code",
   "execution_count": 6,
   "id": "92199dde-ea14-4892-8d16-75061def18c3",
   "metadata": {},
   "outputs": [],
   "source": [
    "#3.\n",
    "x = 5\n",
    "if x == 10:\n",
    "    print(\"x is 10\")"
   ]
  },
  {
   "cell_type": "code",
   "execution_count": 10,
   "id": "2e3fea62-ec36-4a63-8967-28d769009937",
   "metadata": {},
   "outputs": [
    {
     "name": "stdout",
     "output_type": "stream",
     "text": [
      "[2, 3, 5, 8]\n"
     ]
    }
   ],
   "source": [
    "numbers = [5, 3, 8, 2]\n",
    "numbers.sort()\n",
    "print(numbers)"
   ]
  },
  {
   "cell_type": "code",
   "execution_count": 12,
   "id": "aef0c158-efae-4551-ba3e-28a889376158",
   "metadata": {},
   "outputs": [
    {
     "name": "stdout",
     "output_type": "stream",
     "text": [
      "16\n"
     ]
    }
   ],
   "source": [
    "#5.\n",
    "def square(n):\n",
    "    return n*n\n",
    "\n",
    "print(square(4))"
   ]
  },
  {
   "cell_type": "code",
   "execution_count": 15,
   "id": "5003c73a-a6fd-40c5-a775-0767f9fe7bff",
   "metadata": {},
   "outputs": [
    {
     "name": "stdout",
     "output_type": "stream",
     "text": [
      "[1, 5, 3]\n"
     ]
    }
   ],
   "source": [
    "#6.\n",
    "my_tuple = [1, 2, 3]\n",
    "my_tuple[1] = 5\n",
    "print(my_tuple)"
   ]
  },
  {
   "cell_type": "code",
   "execution_count": 19,
   "id": "e17ad9f0-f7aa-4375-b740-1cbd085e6d47",
   "metadata": {},
   "outputs": [
    {
     "name": "stdout",
     "output_type": "stream",
     "text": [
      "My name is Alice and I am 25 years old\n"
     ]
    }
   ],
   "source": [
    "#7\n",
    "name = \"Alice\"\n",
    "age = 25\n",
    "print(\"My name is\",name,\"and I am\", age, \"years old\" ,)"
   ]
  },
  {
   "cell_type": "code",
   "execution_count": 20,
   "id": "cd9cc221-7bc2-4a3a-a0bc-957809adff6b",
   "metadata": {},
   "outputs": [
    {
     "name": "stdout",
     "output_type": "stream",
     "text": [
      "Lists are equal\n"
     ]
    }
   ],
   "source": [
    "#8.\n",
    "a = [1, 2, 3]\n",
    "b = [1, 2, 3]\n",
    "if a == b:\n",
    "    print(\"Lists are equal\")"
   ]
  },
  {
   "cell_type": "code",
   "execution_count": 22,
   "id": "cfeb577d-ff1c-4431-9454-c2c0a4d24a8a",
   "metadata": {},
   "outputs": [
    {
     "name": "stdout",
     "output_type": "stream",
     "text": [
      "5\n",
      "4\n",
      "3\n",
      "2\n"
     ]
    }
   ],
   "source": [
    "#9.\n",
    "for i in range(5, 1,-1):\n",
    "    print(i)\n"
   ]
  },
  {
   "cell_type": "code",
   "execution_count": 25,
   "id": "496fe0fc-a454-42d1-a064-79271f54808b",
   "metadata": {},
   "outputs": [
    {
     "name": "stdout",
     "output_type": "stream",
     "text": [
      "John\n"
     ]
    }
   ],
   "source": [
    "#10.\n",
    "student = {\"name\": \"John\", \"age\": 20}\n",
    "print(student[\"name\"])"
   ]
  },
  {
   "cell_type": "code",
   "execution_count": null,
   "id": "639f4c1c-9af3-45a5-baa8-674448257c51",
   "metadata": {},
   "outputs": [],
   "source": []
  }
 ],
 "metadata": {
  "kernelspec": {
   "display_name": "Python 3 (ipykernel)",
   "language": "python",
   "name": "python3"
  },
  "language_info": {
   "codemirror_mode": {
    "name": "ipython",
    "version": 3
   },
   "file_extension": ".py",
   "mimetype": "text/x-python",
   "name": "python",
   "nbconvert_exporter": "python",
   "pygments_lexer": "ipython3",
   "version": "3.12.7"
  }
 },
 "nbformat": 4,
 "nbformat_minor": 5
}
