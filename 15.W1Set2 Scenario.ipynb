{
 "cells": [
  {
   "cell_type": "code",
   "execution_count": 3,
   "id": "3785dd1a-d74b-467e-9ba5-4ceacc0c81f5",
   "metadata": {},
   "outputs": [
    {
     "name": "stdin",
     "output_type": "stream",
     "text": [
      "Enter number 34\n"
     ]
    },
    {
     "name": "stdout",
     "output_type": "stream",
     "text": [
      "Positive\n"
     ]
    }
   ],
   "source": [
    "#Scenario: You are developing a banking application that categorizes transactions based on the amount entered.\n",
    "#Write logic to determine whether the amount is positive, negative, or zero.\n",
    "\n",
    "amt = int(input(\"Enter number\"))\n",
    "if(amt == 0):\n",
    "    print(\"Zero\")\n",
    "elif(amt > 0):\n",
    "    print(\"Positive\")\n",
    "elif(amt < 0):\n",
    "    print(\"Negative\")\n"
   ]
  },
  {
   "cell_type": "code",
   "execution_count": 7,
   "id": "aa93d83a-72fc-4e98-b119-1dad3bdd6567",
   "metadata": {},
   "outputs": [
    {
     "name": "stdin",
     "output_type": "stream",
     "text": [
      "Enter the number 2345\n"
     ]
    },
    {
     "name": "stdout",
     "output_type": "stream",
     "text": [
      "14\n"
     ]
    }
   ],
   "source": [
    "#A digital locker requires users to enter a numerical passcode. As part of a security feature, the system checks the sum of the digits of the passcode.\n",
    "# Write logic to compute the sum of the digits of a given number.\n",
    "\n",
    "num = input(\"Enter the number\")\n",
    "sum1 = 0;\n",
    "for i in range(len(num)):\n",
    "    sum1 = sum1 + int(num[i])\n",
    "print(sum1)"
   ]
  },
  {
   "cell_type": "code",
   "execution_count": 19,
   "id": "d7671aa2-8d98-4535-8031-1967a359b763",
   "metadata": {},
   "outputs": [
    {
     "name": "stdin",
     "output_type": "stream",
     "text": [
      "Enter the number 123\n"
     ]
    },
    {
     "name": "stdout",
     "output_type": "stream",
     "text": [
      "321\n"
     ]
    }
   ],
   "source": [
    "#A mobile payment app uses a simple checksum validation where reversing a transaction ID helps detect fraud.\n",
    "#Write logic to take a number and return its reverse.\n",
    "\n",
    "num1 = input(\"Enter the number\")\n",
    "revnum = \"\"\n",
    "for i in range(len(num1)-1,-1,-1):\n",
    "    revnum = revnum + num1[i]\n",
    "print(revnum)\n",
    "    "
   ]
  },
  {
   "cell_type": "code",
   "execution_count": 20,
   "id": "893c1e4c-6571-458d-a4e3-da07e87ebae2",
   "metadata": {},
   "outputs": [
    {
     "name": "stdin",
     "output_type": "stream",
     "text": [
      "Enter number 7\n"
     ]
    },
    {
     "name": "stdout",
     "output_type": "stream",
     "text": [
      "Prime\n"
     ]
    }
   ],
   "source": [
    "#In a secure login system, certain features are enabled only for users with prime-numbered user IDs.\n",
    "#Write logic to check if a given number is prime\n",
    "\n",
    "def primecheck(n):\n",
    "    for i in range(2,n):\n",
    "        if(n%i == 0):\n",
    "            return 0\n",
    "    return 1\n",
    "\n",
    "n = int(input(\"Enter number\"))\n",
    "x = primecheck(n)\n",
    "if(x == 0):\n",
    "    print(\"Not a prime\")\n",
    "else:\n",
    "    print(\"Prime\")"
   ]
  },
  {
   "cell_type": "code",
   "execution_count": 26,
   "id": "157d850e-1fcd-4d6d-a7a8-6c2bf57e382e",
   "metadata": {},
   "outputs": [
    {
     "name": "stdin",
     "output_type": "stream",
     "text": [
      "Enter the number 5\n"
     ]
    },
    {
     "name": "stdout",
     "output_type": "stream",
     "text": [
      "120\n"
     ]
    }
   ],
   "source": [
    "#A scientist is working on permutations and needs to calculate the factorial of numbers frequently.\n",
    "#Write logic to find the factorial of a given number using recursion.\n",
    "\n",
    "\n",
    "def recfact(n):\n",
    "    if(n-1 > 0):\n",
    "        return n * recfact(n-1)\n",
    "    else:\n",
    "        return n\n",
    "\n",
    "n = int(input(\"Enter the number\"))\n",
    "fact=1\n",
    "print(recfact(n))"
   ]
  },
  {
   "cell_type": "code",
   "execution_count": 36,
   "id": "bc663224-00dc-45a3-b33c-8a922f4b7433",
   "metadata": {},
   "outputs": [
    {
     "name": "stdin",
     "output_type": "stream",
     "text": [
      "Enter the number 153\n"
     ]
    },
    {
     "name": "stdout",
     "output_type": "stream",
     "text": [
      "Amstrong Number\n"
     ]
    }
   ],
   "source": [
    "#: A unique lottery system assigns ticket numbers where only Armstrong numbers win the jackpot.\n",
    "# Write logic to check whether a given number is an Armstrong number.\n",
    "\n",
    "\n",
    "num = input(\"Enter the number\")\n",
    "sum1 = 0 ;\n",
    "idv = 1 ; \n",
    "for i in range(len(num)):\n",
    "    idv = int(num[i]) ** 3\n",
    "    sum1 = sum1 + idv\n",
    "if(int(num) == sum1):\n",
    "    print(\"Amstrong Number\")\n",
    "else:\n",
    "    print(\"Not an Amstrong number\")\n"
   ]
  },
  {
   "cell_type": "code",
   "execution_count": 41,
   "id": "4b0b38d2-9617-4ffe-94ea-2944cff430c9",
   "metadata": {},
   "outputs": [
    {
     "name": "stdin",
     "output_type": "stream",
     "text": [
      "Enter your password qwerty\n"
     ]
    },
    {
     "name": "stdout",
     "output_type": "stream",
     "text": [
      "ywertq\n"
     ]
    }
   ],
   "source": [
    "#A password manager needs to strengthen weak passwords by swapping the first and last characters of user-generated passwords.\n",
    "#Write logic to perform this operation on a given string.\n",
    "\n",
    "userpw = list(input(\"Enter your password\"))\n",
    "temp = userpw[0]\n",
    "userpw[0] = userpw[len(userpw)-1]\n",
    "userpw[len(userpw)-1] = temp\n",
    "print(\"\".join(userpw))\n",
    "    "
   ]
  },
  {
   "cell_type": "code",
   "execution_count": 43,
   "id": "fa823de6-d833-4eb9-95ea-1e685b757aa5",
   "metadata": {},
   "outputs": [
    {
     "name": "stdin",
     "output_type": "stream",
     "text": [
      "Enter the number 10\n"
     ]
    },
    {
     "name": "stdout",
     "output_type": "stream",
     "text": [
      "1010\n"
     ]
    }
   ],
   "source": [
    "#A low-level networking application requires decimal numbers to be converted into binary format before transmission.\n",
    "#Write logic to convert a given decimal number into its binary equivalent.\n",
    "\n",
    "num = int(input(\"Enter the number\"))\n",
    "binary = format(num, 'b')\n",
    "print(binary)"
   ]
  },
  {
   "cell_type": "code",
   "execution_count": 48,
   "id": "c7ae976b-0b7a-4780-9ce8-a8527668e819",
   "metadata": {},
   "outputs": [
    {
     "name": "stdin",
     "output_type": "stream",
     "text": [
      "Enter the string hel llo wor ldsd iouytr\n"
     ]
    },
    {
     "name": "stdout",
     "output_type": "stream",
     "text": [
      "iouytr\n"
     ]
    }
   ],
   "source": [
    "#A text-processing tool helps summarize articles by identifying the most significant words.\n",
    "#Write logic to find the longest word in a sentence\n",
    "\n",
    "instr = input(\"Enter the string\")\n",
    "splittedstr = instr.split(\" \")\n",
    "maxi = 0\n",
    "for i in range(len(splittedstr)):\n",
    "    if(len(splittedstr[i]) > maxi):\n",
    "        maxi = len(splittedstr[i])\n",
    "        opstr = splittedstr[i]\n",
    "print(opstr)\n",
    "        "
   ]
  },
  {
   "cell_type": "code",
   "execution_count": 57,
   "id": "961e689c-98b9-45cb-89e7-81cc7c0feebb",
   "metadata": {},
   "outputs": [
    {
     "name": "stdin",
     "output_type": "stream",
     "text": [
      "Enter the string Hello world Hello\n"
     ]
    },
    {
     "name": "stdout",
     "output_type": "stream",
     "text": [
      "Contains Duplicate\n"
     ]
    }
   ],
   "source": [
    "#A plagiarism detection tool compares words from different documents and checks if they are anagrams (same characters but different order).\n",
    "#Write logic to check whether two given strings are anagrams.\n",
    "    \n",
    "instr = input(\"Enter the string\")\n",
    "splittedstr = instr.split(\" \")\n",
    "if(len(splittedstr) != len(set(splittedstr))):\n",
    "    print(\"Contains Duplicate\")\n",
    "else:\n",
    "    print(\"Does not contains Duplicate\")\n",
    "\n"
   ]
  },
  {
   "cell_type": "code",
   "execution_count": null,
   "id": "b8a65b62-4e08-4741-92fc-506a8fef88a3",
   "metadata": {},
   "outputs": [],
   "source": []
  }
 ],
 "metadata": {
  "kernelspec": {
   "display_name": "Python 3 (ipykernel)",
   "language": "python",
   "name": "python3"
  },
  "language_info": {
   "codemirror_mode": {
    "name": "ipython",
    "version": 3
   },
   "file_extension": ".py",
   "mimetype": "text/x-python",
   "name": "python",
   "nbconvert_exporter": "python",
   "pygments_lexer": "ipython3",
   "version": "3.12.7"
  }
 },
 "nbformat": 4,
 "nbformat_minor": 5
}
