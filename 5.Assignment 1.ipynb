{
 "cells": [
  {
   "cell_type": "code",
   "execution_count": 1,
   "id": "b40d29e8-36c0-42ef-8eb3-fd343cf15297",
   "metadata": {},
   "outputs": [
    {
     "name": "stdout",
     "output_type": "stream",
     "text": [
      "Welcome to Assignment-1\n"
     ]
    }
   ],
   "source": [
    "#Baby Step 1\n",
    "\n",
    "print(\"Welcome to Assignment-1\")"
   ]
  },
  {
   "cell_type": "code",
   "execution_count": 2,
   "id": "6d0718fb-4215-4395-ab92-ad3792f9f639",
   "metadata": {},
   "outputs": [
    {
     "name": "stdin",
     "output_type": "stream",
     "text": [
      "Num1=  10\n",
      "Num2=  30\n"
     ]
    },
    {
     "name": "stdout",
     "output_type": "stream",
     "text": [
      "Add=  40\n"
     ]
    }
   ],
   "source": [
    "num1 = int(input(\"Num1= \"))\n",
    "num2 = int(input(\"Num2= \"))\n",
    "print(\"Add= \", num1+num2)"
   ]
  },
  {
   "cell_type": "code",
   "execution_count": 4,
   "id": "2b762c5b-637f-4b64-936d-0ca4a9bac1f6",
   "metadata": {},
   "outputs": [
    {
     "name": "stdin",
     "output_type": "stream",
     "text": [
      "Enter the BMI Index: 23\n"
     ]
    },
    {
     "name": "stdout",
     "output_type": "stream",
     "text": [
      "Normal\n"
     ]
    }
   ],
   "source": [
    "#BMI Calculator\n",
    "bmi = int(input(\"Enter the BMI Index:\"))\n",
    "if(bmi < 18.5):\n",
    "    print(\"Under Weight\")\n",
    "elif(bmi >=18.5 and bmi <= 24.9):\n",
    "    print(\"Normal\")\n",
    "elif(bmi >=25 and bmi <= 29.9):\n",
    "    print(\"over weight\")\n",
    "elif(bmi >=30 and bmi <= 34.9):\n",
    "    print(\"Obesity class 1\")\n",
    "elif(bmi >=35 and bmi < 39.9):\n",
    "    print(\"obesity class 2\")\n",
    "elif(bmi >= 40):\n",
    "    print(\"Extreme obesity\")\n",
    "    "
   ]
  },
  {
   "cell_type": "code",
   "execution_count": 5,
   "id": "72610845-6732-43a2-bd6a-4ae5aae6487d",
   "metadata": {},
   "outputs": [],
   "source": [
    "#Extra assignment level 1:"
   ]
  },
  {
   "cell_type": "code",
   "execution_count": 20,
   "id": "f5eee29d-8a3e-4e2b-be90-0b63f0c58264",
   "metadata": {},
   "outputs": [
    {
     "name": "stdout",
     "output_type": "stream",
     "text": [
      "HOPE AI\n"
     ]
    }
   ],
   "source": [
    "#1 \n",
    "print(\"HOPE AI\")"
   ]
  },
  {
   "cell_type": "code",
   "execution_count": 11,
   "id": "0dae1133-681f-4166-99ae-51f5402692dc",
   "metadata": {},
   "outputs": [
    {
     "name": "stdin",
     "output_type": "stream",
     "text": [
      "Enter your institute name? :  HOPE AI\n"
     ]
    }
   ],
   "source": [
    "#2\n",
    "inst = input(\"Enter your institute name? : \")"
   ]
  },
  {
   "cell_type": "code",
   "execution_count": 12,
   "id": "37279501-2795-4db1-94f6-b7ba5880e7aa",
   "metadata": {},
   "outputs": [
    {
     "name": "stdin",
     "output_type": "stream",
     "text": [
      "Enter your name:  Raj\n",
      "Enter your age:  23\n",
      "Enter your school name:  Guru school\n",
      "Enter your drgree:  BE. Auto\n"
     ]
    }
   ],
   "source": [
    "#3\n",
    "name = input(\"Enter your name: \")\n",
    "age = input(\"Enter your age: \")\n",
    "school = input(\"Enter your school name: \")\n",
    "degree = input(\"Enter your drgree: \")"
   ]
  },
  {
   "cell_type": "code",
   "execution_count": 13,
   "id": "670629fa-8199-4c5b-becf-9b41f83fb224",
   "metadata": {},
   "outputs": [
    {
     "name": "stdin",
     "output_type": "stream",
     "text": [
      "a=  21\n",
      "b=  23\n"
     ]
    },
    {
     "name": "stdout",
     "output_type": "stream",
     "text": [
      "add =  44\n"
     ]
    }
   ],
   "source": [
    "#4\n",
    "a = int(input(\"a= \"))\n",
    "b = int(input(\"b= \"))\n",
    "print(\"add = \",a+b)"
   ]
  },
  {
   "cell_type": "code",
   "execution_count": 14,
   "id": "2730b8d9-6eb5-4481-b6f1-19d785009d53",
   "metadata": {},
   "outputs": [
    {
     "name": "stdin",
     "output_type": "stream",
     "text": [
      "a=  55\n",
      "b=  25\n"
     ]
    },
    {
     "name": "stdout",
     "output_type": "stream",
     "text": [
      "Sub =  30\n"
     ]
    }
   ],
   "source": [
    "#5\n",
    "c = int(input(\"a= \"))\n",
    "d = int(input(\"b= \"))\n",
    "print(\"Sub = \",c-d)"
   ]
  },
  {
   "cell_type": "code",
   "execution_count": 15,
   "id": "0ae92491-9116-4006-a640-04ded6ef365a",
   "metadata": {},
   "outputs": [
    {
     "name": "stdin",
     "output_type": "stream",
     "text": [
      "a=  55\n",
      "b=  44\n"
     ]
    },
    {
     "name": "stdout",
     "output_type": "stream",
     "text": [
      "Mul =  2420\n"
     ]
    }
   ],
   "source": [
    "#6\n",
    "e = int(input(\"a= \"))\n",
    "f = int(input(\"b= \"))\n",
    "print(\"Mul = \",e*f)"
   ]
  },
  {
   "cell_type": "code",
   "execution_count": 16,
   "id": "df5d9066-a5ec-41e0-ba5d-c6ac5b574eac",
   "metadata": {},
   "outputs": [
    {
     "name": "stdin",
     "output_type": "stream",
     "text": [
      "a=  33\n",
      "b=  44\n"
     ]
    },
    {
     "name": "stdout",
     "output_type": "stream",
     "text": [
      "Float Div =  0.75\n"
     ]
    }
   ],
   "source": [
    "#7\n",
    "g = float(input(\"a= \"))\n",
    "h = float(input(\"b= \"))\n",
    "print(\"Float Div = \",g/h)"
   ]
  },
  {
   "cell_type": "code",
   "execution_count": 17,
   "id": "b9b849d4-9592-40f5-8713-d5bac09cd9d3",
   "metadata": {},
   "outputs": [
    {
     "name": "stdin",
     "output_type": "stream",
     "text": [
      "a=  33\n",
      "b=  44\n"
     ]
    },
    {
     "name": "stdout",
     "output_type": "stream",
     "text": [
      "Floor Div =  0\n"
     ]
    }
   ],
   "source": [
    "#8\n",
    "i = int(input(\"a= \"))\n",
    "j = int(input(\"b= \"))\n",
    "print(\"Floor Div = \",int(i/j))"
   ]
  },
  {
   "cell_type": "code",
   "execution_count": 18,
   "id": "4839658f-5501-48d9-9949-c5cee131ea32",
   "metadata": {},
   "outputs": [
    {
     "name": "stdin",
     "output_type": "stream",
     "text": [
      "a=  22\n",
      "b=  11\n"
     ]
    },
    {
     "name": "stdout",
     "output_type": "stream",
     "text": [
      "Modulo =  0\n"
     ]
    }
   ],
   "source": [
    "#9\n",
    "k = int(input(\"a= \"))\n",
    "l = int(input(\"b= \"))\n",
    "print(\"Modulo = \",k%l)"
   ]
  },
  {
   "cell_type": "code",
   "execution_count": 19,
   "id": "9b221636-3091-4619-9d4d-31aaf69621b2",
   "metadata": {},
   "outputs": [
    {
     "name": "stdin",
     "output_type": "stream",
     "text": [
      "a=  4\n",
      "b=  4\n"
     ]
    },
    {
     "name": "stdout",
     "output_type": "stream",
     "text": [
      "Power =  256\n"
     ]
    }
   ],
   "source": [
    "#11\n",
    "m = int(input(\"a= \"))\n",
    "n = int(input(\"b= \"))\n",
    "print(\"Power = \", pow(m,n))"
   ]
  },
  {
   "cell_type": "code",
   "execution_count": 21,
   "id": "0f7bd081-d3d3-4d38-b308-7fbeba90a96c",
   "metadata": {},
   "outputs": [],
   "source": [
    "#Extra Assignment level 2"
   ]
  },
  {
   "cell_type": "code",
   "execution_count": 23,
   "id": "0934c1d3-d145-486e-a807-f6fd6c7e4844",
   "metadata": {},
   "outputs": [
    {
     "name": "stdout",
     "output_type": "stream",
     "text": [
      "0\n",
      "1\n",
      "2\n",
      "3\n",
      "4\n",
      "5\n",
      "6\n",
      "7\n",
      "8\n",
      "9\n",
      "10\n",
      "11\n",
      "12\n",
      "13\n",
      "14\n",
      "15\n",
      "16\n",
      "17\n",
      "18\n",
      "19\n"
     ]
    }
   ],
   "source": [
    "#1\n",
    "for i in range(20):\n",
    "    print(i)"
   ]
  },
  {
   "cell_type": "code",
   "execution_count": 24,
   "id": "750c8f14-37d7-4599-9d7e-5684b800cbd6",
   "metadata": {},
   "outputs": [
    {
     "name": "stdout",
     "output_type": "stream",
     "text": [
      "10\n",
      "11\n",
      "12\n",
      "13\n",
      "14\n",
      "15\n",
      "16\n",
      "17\n",
      "18\n",
      "19\n"
     ]
    }
   ],
   "source": [
    "#2\n",
    "for i in range(10,20):\n",
    "    print(i)"
   ]
  },
  {
   "cell_type": "code",
   "execution_count": 27,
   "id": "35d7bd33-b9c6-42f1-957c-8973db06c663",
   "metadata": {},
   "outputs": [
    {
     "name": "stdout",
     "output_type": "stream",
     "text": [
      "Number of items in the list : 10\n"
     ]
    }
   ],
   "source": [
    "#3\n",
    "list1 = [21,22,23,24,25,26,27,28,29,30]\n",
    "print(\"Number of items in the list :\" , len(list1))"
   ]
  },
  {
   "cell_type": "code",
   "execution_count": 31,
   "id": "190e6aef-bebf-4fa9-a049-b5deb01da559",
   "metadata": {},
   "outputs": [
    {
     "name": "stdout",
     "output_type": "stream",
     "text": [
      "A\n",
      "r\n",
      "t\n",
      "i\n",
      "f\n",
      "i\n",
      "c\n",
      "i\n",
      "a\n",
      "l\n",
      " \n",
      "I\n",
      "N\n",
      "t\n",
      "e\n",
      "l\n",
      "l\n",
      "i\n",
      "g\n",
      "e\n",
      "n\n",
      "c\n",
      "e\n"
     ]
    }
   ],
   "source": [
    "#4\n",
    "str1 = \"Artificial INtelligence\"\n",
    "for i in range(len(str1)):\n",
    "    print(str1[i])"
   ]
  },
  {
   "cell_type": "code",
   "execution_count": 33,
   "id": "f2dfc9a6-06b1-46bd-9f89-dad789b4f915",
   "metadata": {},
   "outputs": [
    {
     "name": "stdout",
     "output_type": "stream",
     "text": [
      "-Your Name-\n",
      "-Your Age-\n",
      "-Your Profession\n"
     ]
    }
   ],
   "source": [
    "print(\"-Your Name-\")\n",
    "print(\"-Your Age-\")\n",
    "print(\"-Your Profession\")"
   ]
  },
  {
   "cell_type": "code",
   "execution_count": 34,
   "id": "40f4afc6-7e95-4aef-bbd7-de3b50f7e711",
   "metadata": {},
   "outputs": [
    {
     "name": "stdout",
     "output_type": "stream",
     "text": [
      "(1, 'Welcome', 2, 'Hope')\n"
     ]
    }
   ],
   "source": [
    "tup = (1, 'Welcome', 2, 'Hope')\n",
    "print(tup)"
   ]
  },
  {
   "cell_type": "code",
   "execution_count": 35,
   "id": "15681c2c-00f8-41a2-8c00-7d6de3c413df",
   "metadata": {},
   "outputs": [
    {
     "name": "stdout",
     "output_type": "stream",
     "text": [
      "((0, 1, 2, 3), ('python', 'HOPE'))\n"
     ]
    }
   ],
   "source": [
    "tup1 = (0, 1, 2, 3)\n",
    "tup2 = ('python', 'HOPE')\n",
    "tup = (tup1, tup2)\n",
    "print(tup)"
   ]
  },
  {
   "cell_type": "code",
   "execution_count": 38,
   "id": "6219cb65-cda3-4e42-a863-2b010613cb37",
   "metadata": {},
   "outputs": [
    {
     "name": "stdout",
     "output_type": "stream",
     "text": [
      "19  is odd\n",
      "25  is odd\n",
      "1  is odd\n"
     ]
    }
   ],
   "source": [
    "tup1 = (20,10,16,19,25,1,276,188)\n",
    "for i in range(len(tup1)):\n",
    "    if(tup1[i] % 2 !=0):\n",
    "        print(tup1[i], \" is odd\")"
   ]
  },
  {
   "cell_type": "code",
   "execution_count": 39,
   "id": "774a934c-00c0-4ff3-896c-aa6b2cd34023",
   "metadata": {},
   "outputs": [
    {
     "name": "stdout",
     "output_type": "stream",
     "text": [
      "20  is even\n",
      "10  is even\n",
      "16  is even\n",
      "276  is even\n",
      "188  is even\n"
     ]
    }
   ],
   "source": [
    "tup1 = (20,10,16,19,25,1,276,188)\n",
    "for i in range(len(tup1)):\n",
    "    if(tup1[i] % 2 ==0):\n",
    "        print(tup1[i], \" is even\")"
   ]
  },
  {
   "cell_type": "code",
   "execution_count": 41,
   "id": "52248edd-d25d-4b3c-abb0-24ad6d004f45",
   "metadata": {},
   "outputs": [],
   "source": [
    "#Extra Assignment level 3"
   ]
  },
  {
   "cell_type": "code",
   "execution_count": 44,
   "id": "9973bf35-56b2-4939-b6f5-dbe7fd7dd3be",
   "metadata": {},
   "outputs": [
    {
     "name": "stdin",
     "output_type": "stream",
     "text": [
      "Value :  10\n"
     ]
    },
    {
     "name": "stdout",
     "output_type": "stream",
     "text": [
      "Correct\n"
     ]
    }
   ],
   "source": [
    "value = int(input(\"Value : \"))\n",
    "if(value==10):\n",
    "    print(\"Correct\")"
   ]
  },
  {
   "cell_type": "code",
   "execution_count": 47,
   "id": "40d0192e-2dc9-407e-8953-02c29e1ac434",
   "metadata": {},
   "outputs": [
    {
     "name": "stdin",
     "output_type": "stream",
     "text": [
      "Enter the passsword HOPE@123\n"
     ]
    },
    {
     "name": "stdout",
     "output_type": "stream",
     "text": [
      "Your password is correct\n"
     ]
    }
   ],
   "source": [
    "password = input(\"Enter the passsword\")\n",
    "if(password == \"HOPE@123\"):\n",
    "    print(\"Your password is correct\")\n",
    "else:\n",
    "    print(\"Incorrect password\")"
   ]
  },
  {
   "cell_type": "code",
   "execution_count": 51,
   "id": "9378ba00-1e79-48ca-b17e-b4e18db2ee63",
   "metadata": {},
   "outputs": [
    {
     "name": "stdin",
     "output_type": "stream",
     "text": [
      "age :  80\n"
     ]
    },
    {
     "name": "stdout",
     "output_type": "stream",
     "text": [
      "Senior Citizen\n"
     ]
    }
   ],
   "source": [
    "age = int(input(\"age : \"))\n",
    "if(age < 18):\n",
    "    print(\"Children\")\n",
    "elif(age > 18 and age < 40):\n",
    "    print(\"Adult\")\n",
    "elif(age > 40 and age < 60):\n",
    "    print(\"Citizen\")\n",
    "elif(age > 60):\n",
    "    print(\"Senior Citizen\")"
   ]
  },
  {
   "cell_type": "code",
   "execution_count": 53,
   "id": "3835afd0-f637-48ae-8a6a-75353314a2c3",
   "metadata": {},
   "outputs": [
    {
     "name": "stdin",
     "output_type": "stream",
     "text": [
      "Enter a number -0987\n"
     ]
    },
    {
     "name": "stdout",
     "output_type": "stream",
     "text": [
      "No is negative\n"
     ]
    }
   ],
   "source": [
    "num1 = int(input(\"Enter a number\"))\n",
    "if(num1 > 0):\n",
    "    print(\"No is positive\")\n",
    "else:\n",
    "    print(\"No is negative\")"
   ]
  },
  {
   "cell_type": "code",
   "execution_count": 56,
   "id": "4934acc4-3ed5-45be-b533-c38e0f28e1e6",
   "metadata": {},
   "outputs": [
    {
     "name": "stdin",
     "output_type": "stream",
     "text": [
      "Enter a number 45\n"
     ]
    },
    {
     "name": "stdout",
     "output_type": "stream",
     "text": [
      "Number is divisible by 5\n"
     ]
    }
   ],
   "source": [
    "num2 = int(input(\"Enter a number\"))\n",
    "if(num2%5 == 0):\n",
    "    print(\"Number is divisible by 5\")\n",
    "else:\n",
    "    print(\"Number is not divisible by 5\")"
   ]
  },
  {
   "cell_type": "code",
   "execution_count": null,
   "id": "f3959ef1-0841-46eb-97df-094a9e57ca6c",
   "metadata": {},
   "outputs": [],
   "source": []
  }
 ],
 "metadata": {
  "kernelspec": {
   "display_name": "Python 3 (ipykernel)",
   "language": "python",
   "name": "python3"
  },
  "language_info": {
   "codemirror_mode": {
    "name": "ipython",
    "version": 3
   },
   "file_extension": ".py",
   "mimetype": "text/x-python",
   "name": "python",
   "nbconvert_exporter": "python",
   "pygments_lexer": "ipython3",
   "version": "3.12.7"
  }
 },
 "nbformat": 4,
 "nbformat_minor": 5
}
