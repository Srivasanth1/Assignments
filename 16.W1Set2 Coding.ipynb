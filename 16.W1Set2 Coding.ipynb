{
 "cells": [
  {
   "cell_type": "code",
   "execution_count": 8,
   "id": "c12f9ab9-7434-40a8-b8c6-4f41b699f67e",
   "metadata": {},
   "outputs": [
    {
     "name": "stdin",
     "output_type": "stream",
     "text": [
      "Enter the string hello\n"
     ]
    },
    {
     "name": "stdout",
     "output_type": "stream",
     "text": [
      "olleh\n"
     ]
    }
   ],
   "source": [
    "#1.Write a Python program to find the reverse of a string. Expected Output (for input \"hello\"):\n",
    "#olleh\n",
    "\n",
    "str1 = input(\"Enter the string\")\n",
    "print(str1[::-1])"
   ]
  },
  {
   "cell_type": "code",
   "execution_count": 13,
   "id": "1ac1b663-2a30-4f88-ad5a-69044d6c3013",
   "metadata": {},
   "outputs": [
    {
     "name": "stdin",
     "output_type": "stream",
     "text": [
      "Enter the number 10\n"
     ]
    },
    {
     "name": "stdout",
     "output_type": "stream",
     "text": [
      "0 1 1 2 3 5 8 13 21 34 "
     ]
    }
   ],
   "source": [
    "#2.Write a Python program to generate the Fibonacci sequence up to 10 terms.\n",
    "#Expected Output:\n",
    "#0 1 1 2 3 5 8 13 21 34\n",
    "\n",
    "num1 = int(input(\"Enter the number\"))\n",
    "var1 = 0\n",
    "var2 = 1\n",
    "sum1 = 0\n",
    "print(var1, var2, end=\" \")\n",
    "for i in range(num1-2):\n",
    "    sum1 = var1 + var2\n",
    "    var1 = var2\n",
    "    var2 = sum1\n",
    "    print(sum1, end=\" \")"
   ]
  },
  {
   "cell_type": "code",
   "execution_count": 17,
   "id": "a91ece88-cc2d-449d-ab77-dfa48db5551d",
   "metadata": {},
   "outputs": [
    {
     "name": "stdin",
     "output_type": "stream",
     "text": [
      "Enter the string hello\n"
     ]
    },
    {
     "name": "stdout",
     "output_type": "stream",
     "text": [
      "Not a pallindrome\n"
     ]
    }
   ],
   "source": [
    "#3.Write a Python function to check if a given string is a palindrome.\n",
    "#Expected Output (for input \"madam\"):\n",
    "#madam is a palindrome\n",
    "\n",
    "str1 = input(\"Enter the string\")\n",
    "str2 = str1[::-1]\n",
    "if(str1 == str2):\n",
    "    print(\"Pallindrome\")\n",
    "else:\n",
    "    print(\"Not a pallindrome\")"
   ]
  },
  {
   "cell_type": "code",
   "execution_count": 22,
   "id": "bf3552e2-edc7-4af8-b4fd-daa4ceef6e05",
   "metadata": {},
   "outputs": [
    {
     "name": "stdin",
     "output_type": "stream",
     "text": [
      "Enter the string education\n"
     ]
    },
    {
     "name": "stdout",
     "output_type": "stream",
     "text": [
      "5\n"
     ]
    }
   ],
   "source": [
    "#4.Write a Python program to count the number of vowels in a given string. \n",
    "#Expected Output (for input \"education\"):\n",
    "\n",
    "#Number of vowels: 5\n",
    "\n",
    "str1 = input(\"Enter the string\")\n",
    "str1 = str1.lower()\n",
    "count = 0\n",
    "for i in range(len(str1)):\n",
    "    if(str1[i] == 'a' or str1[i] == 'e'or str1[i] == 'i'or str1[i] == 'o'or str1[i] == 'u'):\n",
    "        count = count +1\n",
    "print(count)"
   ]
  },
  {
   "cell_type": "code",
   "execution_count": 36,
   "id": "8e8e75d6-0c1a-4b51-8547-6022f65d8fc9",
   "metadata": {},
   "outputs": [
    {
     "name": "stdout",
     "output_type": "stream",
     "text": [
      "[1, 3, 5, 6, 7, 8]\n"
     ]
    }
   ],
   "source": [
    "#5.Write a Python program to remove duplicates from a list.\n",
    "#Expected Output (for input [1, 2, 2, 3, 4, 4, 5]):\n",
    "# [1, 2, 3, 4, 5]\n",
    "\n",
    "list1 = [1,2,3,4,5,8,6,7,8]\n",
    "conList1 = set()\n",
    "list2 = []\n",
    "for i in range(len(list1)):\n",
    "    if (i not in conList1):\n",
    "        list2.append(list1[i])\n",
    "        conList1.add(list1[i])\n",
    "\n",
    "print(list2)\n",
    "    "
   ]
  },
  {
   "cell_type": "code",
   "execution_count": null,
   "id": "1d879862-56b5-4b5c-b9be-1c67dd5ac71c",
   "metadata": {},
   "outputs": [],
   "source": []
  }
 ],
 "metadata": {
  "kernelspec": {
   "display_name": "Python 3 (ipykernel)",
   "language": "python",
   "name": "python3"
  },
  "language_info": {
   "codemirror_mode": {
    "name": "ipython",
    "version": 3
   },
   "file_extension": ".py",
   "mimetype": "text/x-python",
   "name": "python",
   "nbconvert_exporter": "python",
   "pygments_lexer": "ipython3",
   "version": "3.12.7"
  }
 },
 "nbformat": 4,
 "nbformat_minor": 5
}
