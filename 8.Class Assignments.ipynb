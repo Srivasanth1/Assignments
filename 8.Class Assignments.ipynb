{
 "cells": [
  {
   "cell_type": "code",
   "execution_count": 12,
   "id": "2bf54812-ed61-4a08-8491-41b0624f0aa6",
   "metadata": {},
   "outputs": [],
   "source": [
    "#Class assignments\n",
    "#Subfields of artificial intelligence\n",
    "class SubfieldsInAI():\n",
    "    def subfields():\n",
    "        list1 = [\"Machine Learning\", \"Neural Networks\", \"Vision\", \"Robotics\", \"Speech Processing\",\"Natural Language Processing\"]\n",
    "        print(\"Subfields of AI are:\")\n",
    "        for i in range(len(list1)):\n",
    "            print(list1[i])\n",
    "            \n",
    "    def oddoreven():\n",
    "        num1=int(input(\"Enter num 1\"))\n",
    "        if(num1%2 == 0):\n",
    "            print(\"Even\")\n",
    "        else:\n",
    "            print(\"Odd\")\n",
    "            \n",
    "    def marriageeligible():\n",
    "        gender=input(\"Enter the gender\")\n",
    "        age=int(input(\"Enter the age\"))\n",
    "        if(gender == \"Male\" and age >= 21):\n",
    "            print(\"Eligible\")\n",
    "        elif(gender == \"Female\" and age >= 18):\n",
    "            print(\"Eligible\")\n",
    "        else:\n",
    "            print(\"Not Eligible\")\n",
    "\n",
    "    def calcavg():\n",
    "        totalno = int(input(\"Enter the total no of Subjects : \"))\n",
    "        list1 = []\n",
    "        totalmarks =0\n",
    "        for i in range(totalno):\n",
    "            mark = int(input(f\"Subject{i+1}:\"))\n",
    "            list1.append(mark)\n",
    "        for i in range(len(list1)):\n",
    "            totalmarks = totalmarks + list1[i]\n",
    "        print(totalmarks/totalno)\n",
    "\n",
    "    def calareaper():\n",
    "        option = int(input(\"Enter 1 and 2 to calculate area and perimeter respectively\"))\n",
    "        if(option == 1):\n",
    "            h1 = float(input(\"Enter Height1\"))\n",
    "            b = float(input(\"Enter breadth\"))\n",
    "            area = (h1*b)/2\n",
    "            print(area)\n",
    "        elif(option == 2):\n",
    "            h1 = float(input(\"Enter Height1\"))\n",
    "            h2 = float(input(\"Enter Height2\"))\n",
    "            b = float(input(\"Enter breadth\"))\n",
    "            per = h1+h2+b\n",
    "            print(per)\n",
    "        else:\n",
    "            print(\"Enter 1 or 2 only\")    "
   ]
  },
  {
   "cell_type": "code",
   "execution_count": 5,
   "id": "97fc8659-4a7d-4261-82d1-7eb913caaf3a",
   "metadata": {},
   "outputs": [
    {
     "name": "stdout",
     "output_type": "stream",
     "text": [
      "Subfields of AI are:\n",
      "Machine Learning\n",
      "Neural Networks\n",
      "Vision\n",
      "Robotics\n",
      "Speech Processing\n",
      "Natural Language Processing\n"
     ]
    }
   ],
   "source": [
    "SubfieldsInAI.subfields()"
   ]
  },
  {
   "cell_type": "code",
   "execution_count": 6,
   "id": "2109f2d0-461c-47ec-9c12-5a46d6723e79",
   "metadata": {},
   "outputs": [
    {
     "name": "stdin",
     "output_type": "stream",
     "text": [
      "Enter num 1 21\n"
     ]
    },
    {
     "name": "stdout",
     "output_type": "stream",
     "text": [
      "Odd\n"
     ]
    }
   ],
   "source": [
    "SubfieldsInAI.oddoreven()"
   ]
  },
  {
   "cell_type": "code",
   "execution_count": 7,
   "id": "6b61ae69-b66c-47e7-9050-e9c4a27c8046",
   "metadata": {},
   "outputs": [
    {
     "name": "stdin",
     "output_type": "stream",
     "text": [
      "Enter the gender Male\n",
      "Enter the age 23\n"
     ]
    },
    {
     "name": "stdout",
     "output_type": "stream",
     "text": [
      "Eligible\n"
     ]
    }
   ],
   "source": [
    "SubfieldsInAI.marriageeligible()"
   ]
  },
  {
   "cell_type": "code",
   "execution_count": 13,
   "id": "91dea388-d633-4190-bcd4-5c2bef6ca077",
   "metadata": {},
   "outputs": [
    {
     "name": "stdin",
     "output_type": "stream",
     "text": [
      "Enter the total no of Subjects :  3\n",
      "Subject1: 34\n",
      "Subject2: 25\n",
      "Subject3: 67\n"
     ]
    },
    {
     "name": "stdout",
     "output_type": "stream",
     "text": [
      "42.0\n"
     ]
    }
   ],
   "source": [
    "SubfieldsInAI.calcavg()"
   ]
  },
  {
   "cell_type": "code",
   "execution_count": 14,
   "id": "607468a0-a2ad-4831-9a66-b7790af223c4",
   "metadata": {},
   "outputs": [
    {
     "name": "stdin",
     "output_type": "stream",
     "text": [
      "Enter 1 and 2 to calculate area and perimeter respectively 2\n",
      "Enter Height1 23\n",
      "Enter Height2 34\n",
      "Enter breadth 12\n"
     ]
    },
    {
     "name": "stdout",
     "output_type": "stream",
     "text": [
      "69.0\n"
     ]
    }
   ],
   "source": [
    "SubfieldsInAI.calareaper()"
   ]
  },
  {
   "cell_type": "code",
   "execution_count": null,
   "id": "1fd1d80d-867f-4cb7-aa6f-04d789dfafa8",
   "metadata": {},
   "outputs": [],
   "source": []
  }
 ],
 "metadata": {
  "kernelspec": {
   "display_name": "Python 3 (ipykernel)",
   "language": "python",
   "name": "python3"
  },
  "language_info": {
   "codemirror_mode": {
    "name": "ipython",
    "version": 3
   },
   "file_extension": ".py",
   "mimetype": "text/x-python",
   "name": "python",
   "nbconvert_exporter": "python",
   "pygments_lexer": "ipython3",
   "version": "3.12.7"
  }
 },
 "nbformat": 4,
 "nbformat_minor": 5
}
